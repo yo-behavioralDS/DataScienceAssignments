{
  "metadata": {
    "kernelspec": {
      "name": "python",
      "display_name": "Python (Pyodide)",
      "language": "python"
    },
    "language_info": {
      "codemirror_mode": {
        "name": "python",
        "version": 3
      },
      "file_extension": ".py",
      "mimetype": "text/x-python",
      "name": "python",
      "nbconvert_exporter": "python",
      "pygments_lexer": "ipython3",
      "version": "3.8"
    },
    "colab": {
      "provenance": [],
      "include_colab_link": true
    }
  },
  "nbformat_minor": 5,
  "nbformat": 4,
  "cells": [
    {
      "cell_type": "markdown",
      "metadata": {
        "id": "view-in-github",
        "colab_type": "text"
      },
      "source": [
        "<a href=\"https://colab.research.google.com/github/yo-behavioralDS/DataScienceAssignments/blob/main/DataScienceEcosystem.ipynb\" target=\"_parent\"><img src=\"https://colab.research.google.com/assets/colab-badge.svg\" alt=\"Open In Colab\"/></a>"
      ]
    },
    {
      "id": "fa9e5bb0-e2a9-481e-94ce-70808e1f7729",
      "cell_type": "markdown",
      "source": [
        "# Data Science Tools and Ecosystem"
      ],
      "metadata": {
        "id": "fa9e5bb0-e2a9-481e-94ce-70808e1f7729"
      }
    },
    {
      "id": "009f71c3-0995-4fa4-9b99-b4d99d6f0eba",
      "cell_type": "markdown",
      "source": [
        "In this notebook, Data Science Tools and Ecosystem are summarized."
      ],
      "metadata": {
        "id": "009f71c3-0995-4fa4-9b99-b4d99d6f0eba"
      }
    },
    {
      "id": "cee1bdba-d953-4e45-9d9e-09b6286e4442",
      "cell_type": "markdown",
      "source": [
        "**Objectives:**\n",
        "+ List popular programming languages used in Data Science\n",
        "+ List commonly used libraries in Data Science\n",
        "+ List open-source development environment tools used in Data Science"
      ],
      "metadata": {
        "id": "cee1bdba-d953-4e45-9d9e-09b6286e4442"
      }
    },
    {
      "id": "52caac5b-2154-4191-9d40-8944b5bed95d",
      "cell_type": "markdown",
      "source": [
        "#### Some of the popular languages that Data Scientists use are:\n"
      ],
      "metadata": {
        "id": "52caac5b-2154-4191-9d40-8944b5bed95d"
      }
    },
    {
      "id": "543a4b53-7779-4d4b-8161-c4ca4d699486",
      "cell_type": "markdown",
      "source": [
        "1. Python\n",
        "2. R\n",
        "3. SQL\n",
        "4. Java\n",
        "5. Scala\n",
        "6. C++\n",
        "7. JavaScript\n",
        "8. Julia"
      ],
      "metadata": {
        "id": "543a4b53-7779-4d4b-8161-c4ca4d699486"
      }
    },
    {
      "id": "f849a930-bc48-4cf7-9adc-eef40254bcc6",
      "cell_type": "markdown",
      "source": [
        "#### Some of the commonly used libraries used by Data Scientists include:"
      ],
      "metadata": {
        "id": "f849a930-bc48-4cf7-9adc-eef40254bcc6"
      }
    },
    {
      "id": "9e1f7c91-b252-4295-b649-a60e70645617",
      "cell_type": "markdown",
      "source": [
        "+ Python libraries\n",
        "  + *Pandas* for data manipulation\n",
        "  + *NumPy* for numerical computing\n",
        "+ R libraries\n",
        "  + *ggplot2* for data visualization\n",
        "  + *caret* for machine learning"
      ],
      "metadata": {
        "id": "9e1f7c91-b252-4295-b649-a60e70645617"
      }
    },
    {
      "id": "6b537ff5-f5d4-40d2-9490-0c452980cb9f",
      "cell_type": "markdown",
      "source": [
        "-----"
      ],
      "metadata": {
        "id": "6b537ff5-f5d4-40d2-9490-0c452980cb9f"
      }
    },
    {
      "id": "c9dc74d3-0b16-42b1-9739-29fbe8b6678e",
      "cell_type": "markdown",
      "source": [
        "#### *Table for open-source development environment tools used in data science*"
      ],
      "metadata": {
        "id": "c9dc74d3-0b16-42b1-9739-29fbe8b6678e"
      }
    },
    {
      "id": "9d66938f-e0a4-485e-b7eb-635a39c044eb",
      "cell_type": "markdown",
      "source": [
        "|Data Science Tools|\n",
        "|------------|\n",
        "|JupyterLab|\n",
        "|RStudio|\n",
        "|VS Code|"
      ],
      "metadata": {
        "id": "9d66938f-e0a4-485e-b7eb-635a39c044eb"
      }
    },
    {
      "id": "fab311e7-92a8-42e4-9776-1836a422cfed",
      "cell_type": "markdown",
      "source": [
        "### Below are a few examples of evaluating arithmetic expressions in Python."
      ],
      "metadata": {
        "id": "fab311e7-92a8-42e4-9776-1836a422cfed"
      }
    },
    {
      "id": "5ba070bb-1596-4bb2-a408-1d1bc105705c",
      "cell_type": "code",
      "source": [
        "#This a simple arithmetic expression to mutiply then add integers\n",
        "(3*4)+5"
      ],
      "metadata": {
        "trusted": true,
        "id": "5ba070bb-1596-4bb2-a408-1d1bc105705c",
        "outputId": "af7f7eb7-1156-4eb2-d82a-8224fa8fc308"
      },
      "outputs": [
        {
          "execution_count": 3,
          "output_type": "execute_result",
          "data": {
            "text/plain": "17"
          },
          "metadata": {}
        }
      ],
      "execution_count": null
    },
    {
      "id": "f4236224-c602-432c-8237-b0e7e302905b",
      "cell_type": "code",
      "source": [
        "#This will convert 200 minutes to hours by diving by 60\n",
        "200/60"
      ],
      "metadata": {
        "trusted": true,
        "id": "f4236224-c602-432c-8237-b0e7e302905b",
        "outputId": "9deacb91-ae08-42e0-c62b-c29e1ea7c949"
      },
      "outputs": [
        {
          "execution_count": 6,
          "output_type": "execute_result",
          "data": {
            "text/plain": "3.3333333333333335"
          },
          "metadata": {}
        }
      ],
      "execution_count": null
    },
    {
      "id": "37f73125-1b8a-4d24-bdfe-6170463bdc53",
      "cell_type": "markdown",
      "source": [
        "\n",
        "\n",
        "## Author\n",
        "Yomna"
      ],
      "metadata": {
        "id": "37f73125-1b8a-4d24-bdfe-6170463bdc53"
      }
    },
    {
      "id": "ebda5a61-4682-49ff-8cab-36b27839c54c",
      "cell_type": "code",
      "source": [],
      "metadata": {
        "trusted": true,
        "id": "ebda5a61-4682-49ff-8cab-36b27839c54c"
      },
      "outputs": [],
      "execution_count": null
    }
  ]
}