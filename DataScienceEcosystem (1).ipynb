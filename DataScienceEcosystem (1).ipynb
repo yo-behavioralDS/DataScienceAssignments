{
 "cells": [
  {
   "cell_type": "markdown",
   "id": "fa9e5bb0-e2a9-481e-94ce-70808e1f7729",
   "metadata": {},
   "source": [
    "# Data Science Tools and Ecosystem"
   ]
  },
  {
   "cell_type": "markdown",
   "id": "009f71c3-0995-4fa4-9b99-b4d99d6f0eba",
   "metadata": {},
   "source": [
    "In this notebook, Data Science Tools and Ecosystem are summarized."
   ]
  },
  {
   "cell_type": "markdown",
   "id": "cee1bdba-d953-4e45-9d9e-09b6286e4442",
   "metadata": {},
   "source": [
    "**Objectives:**\n",
    "+ List popular programming languages used in Data Science\n",
    "+ List commonly used libraries in Data Science\n",
    "+ List open-source development environment tools used in Data Science"
   ]
  },
  {
   "cell_type": "markdown",
   "id": "52caac5b-2154-4191-9d40-8944b5bed95d",
   "metadata": {},
   "source": [
    "#### Some of the popular languages that Data Scientists use are:\n"
   ]
  },
  {
   "cell_type": "markdown",
   "id": "543a4b53-7779-4d4b-8161-c4ca4d699486",
   "metadata": {},
   "source": [
    "1. Python\n",
    "2. R\n",
    "3. SQL\n",
    "4. Java\n",
    "5. Scala\n",
    "6. C++\n",
    "7. JavaScript\n",
    "8. Julia"
   ]
  },
  {
   "cell_type": "markdown",
   "id": "f849a930-bc48-4cf7-9adc-eef40254bcc6",
   "metadata": {},
   "source": [
    "#### Some of the commonly used libraries used by Data Scientists include:"
   ]
  },
  {
   "cell_type": "markdown",
   "id": "9e1f7c91-b252-4295-b649-a60e70645617",
   "metadata": {},
   "source": [
    "+ Python libraries\n",
    "  + *Pandas* for data manipulation\n",
    "  + *NumPy* for numerical computing \n",
    "+ R libraries\n",
    "  + *ggplot2* for data visualization\n",
    "  + *caret* for machine learning"
   ]
  },
  {
   "cell_type": "markdown",
   "id": "6b537ff5-f5d4-40d2-9490-0c452980cb9f",
   "metadata": {},
   "source": [
    "-----"
   ]
  },
  {
   "cell_type": "markdown",
   "id": "c9dc74d3-0b16-42b1-9739-29fbe8b6678e",
   "metadata": {},
   "source": [
    "#### *Table for open-source development environment tools used in data science*"
   ]
  },
  {
   "cell_type": "markdown",
   "id": "9d66938f-e0a4-485e-b7eb-635a39c044eb",
   "metadata": {},
   "source": [
    "|Data Science Tools|\n",
    "|------------|\n",
    "|JupyterLab|\n",
    "|RStudio|\n",
    "|VS Code|"
   ]
  },
  {
   "cell_type": "markdown",
   "id": "fab311e7-92a8-42e4-9776-1836a422cfed",
   "metadata": {},
   "source": [
    "### Below are a few examples of evaluating arithmetic expressions in Python."
   ]
  },
  {
   "cell_type": "code",
   "execution_count": 3,
   "id": "5ba070bb-1596-4bb2-a408-1d1bc105705c",
   "metadata": {},
   "outputs": [
    {
     "data": {
      "text/plain": [
       "17"
      ]
     },
     "execution_count": 3,
     "metadata": {},
     "output_type": "execute_result"
    }
   ],
   "source": [
    "#This a simple arithmetic expression to mutiply then add integers\n",
    "(3*4)+5"
   ]
  },
  {
   "cell_type": "code",
   "execution_count": 6,
   "id": "f4236224-c602-432c-8237-b0e7e302905b",
   "metadata": {},
   "outputs": [
    {
     "data": {
      "text/plain": [
       "3.3333333333333335"
      ]
     },
     "execution_count": 6,
     "metadata": {},
     "output_type": "execute_result"
    }
   ],
   "source": [
    "#This will convert 200 minutes to hours by diving by 60\n",
    "200/60 "
   ]
  },
  {
   "cell_type": "markdown",
   "id": "37f73125-1b8a-4d24-bdfe-6170463bdc53",
   "metadata": {},
   "source": [
    "\n",
    "\n",
    "## Author\n",
    "Yomna "
   ]
  },
  {
   "cell_type": "code",
   "execution_count": null,
   "id": "ebda5a61-4682-49ff-8cab-36b27839c54c",
   "metadata": {},
   "outputs": [],
   "source": []
  }
 ],
 "metadata": {
  "kernelspec": {
   "display_name": "Python 3 (ipykernel)",
   "language": "python",
   "name": "python3"
  },
  "language_info": {
   "codemirror_mode": {
    "name": "ipython",
    "version": 3
   },
   "file_extension": ".py",
   "mimetype": "text/x-python",
   "name": "python",
   "nbconvert_exporter": "python",
   "pygments_lexer": "ipython3",
   "version": "3.12.8"
  }
 },
 "nbformat": 4,
 "nbformat_minor": 5
}
